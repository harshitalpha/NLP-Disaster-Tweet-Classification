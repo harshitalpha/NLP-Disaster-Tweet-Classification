{
  "nbformat": 4,
  "nbformat_minor": 0,
  "metadata": {
    "colab": {
      "name": "BERT ON DISASTER CLASSIFICATION.ipynb",
      "provenance": [],
      "collapsed_sections": [],
      "toc_visible": true
    },
    "kernelspec": {
      "name": "python3",
      "display_name": "Python 3"
    },
    "accelerator": "GPU"
  },
  "cells": [
    {
      "cell_type": "code",
      "metadata": {
        "id": "3ZSTiVq1gRUA",
        "colab_type": "code",
        "outputId": "77307d3d-1893-414a-db87-49c66d250894",
        "colab": {
          "base_uri": "https://localhost:8080/",
          "height": 411
        }
      },
      "source": [
        "!pip install bert-for-tf2"
      ],
      "execution_count": 0,
      "outputs": [
        {
          "output_type": "stream",
          "text": [
            "Collecting bert-for-tf2\n",
            "\u001b[?25l  Downloading https://files.pythonhosted.org/packages/35/5c/6439134ecd17b33fe0396fb0b7d6ce3c5a120c42a4516ba0e9a2d6e43b25/bert-for-tf2-0.14.4.tar.gz (40kB)\n",
            "\r\u001b[K     |████████                        | 10kB 19.5MB/s eta 0:00:01\r\u001b[K     |████████████████▏               | 20kB 3.9MB/s eta 0:00:01\r\u001b[K     |████████████████████████▎       | 30kB 5.0MB/s eta 0:00:01\r\u001b[K     |████████████████████████████████| 40kB 3.1MB/s \n",
            "\u001b[?25hCollecting py-params>=0.9.6\n",
            "  Downloading https://files.pythonhosted.org/packages/a4/bf/c1c70d5315a8677310ea10a41cfc41c5970d9b37c31f9c90d4ab98021fd1/py-params-0.9.7.tar.gz\n",
            "Collecting params-flow>=0.8.0\n",
            "  Downloading https://files.pythonhosted.org/packages/a9/95/ff49f5ebd501f142a6f0aaf42bcfd1c192dc54909d1d9eb84ab031d46056/params-flow-0.8.2.tar.gz\n",
            "Requirement already satisfied: numpy in /usr/local/lib/python3.6/dist-packages (from params-flow>=0.8.0->bert-for-tf2) (1.18.4)\n",
            "Requirement already satisfied: tqdm in /usr/local/lib/python3.6/dist-packages (from params-flow>=0.8.0->bert-for-tf2) (4.41.1)\n",
            "Building wheels for collected packages: bert-for-tf2, py-params, params-flow\n",
            "  Building wheel for bert-for-tf2 (setup.py) ... \u001b[?25l\u001b[?25hdone\n",
            "  Created wheel for bert-for-tf2: filename=bert_for_tf2-0.14.4-cp36-none-any.whl size=30114 sha256=970f5d4b8082e7b12972571cb57087f12467daa58c2ac2050e01829bcfab835a\n",
            "  Stored in directory: /root/.cache/pip/wheels/cf/3f/4d/79d7735015a5f523648df90d871ce8e89a7df8185f7703eeab\n",
            "  Building wheel for py-params (setup.py) ... \u001b[?25l\u001b[?25hdone\n",
            "  Created wheel for py-params: filename=py_params-0.9.7-cp36-none-any.whl size=7302 sha256=6c3ce4b2fcf4762bbc0f9b0fe00839c0f26cab629afc8bc00853f3dfb800ef26\n",
            "  Stored in directory: /root/.cache/pip/wheels/67/f5/19/b461849a50aefdf4bab47c4756596e82ee2118b8278e5a1980\n",
            "  Building wheel for params-flow (setup.py) ... \u001b[?25l\u001b[?25hdone\n",
            "  Created wheel for params-flow: filename=params_flow-0.8.2-cp36-none-any.whl size=19473 sha256=566988f45493179e35db74cec6b3f8b9a5ab6957aff5487ab14f460815ef4961\n",
            "  Stored in directory: /root/.cache/pip/wheels/08/c8/7f/81c86b9ff2b86e2c477e3914175be03e679e596067dc630c06\n",
            "Successfully built bert-for-tf2 py-params params-flow\n",
            "Installing collected packages: py-params, params-flow, bert-for-tf2\n",
            "Successfully installed bert-for-tf2-0.14.4 params-flow-0.8.2 py-params-0.9.7\n"
          ],
          "name": "stdout"
        }
      ]
    },
    {
      "cell_type": "code",
      "metadata": {
        "id": "XQU8K7SpZExf",
        "colab_type": "code",
        "colab": {}
      },
      "source": [
        "import tensorflow_hub as hub\n",
        "import pandas as pd\n",
        "import seaborn as sns\n",
        "import numpy as np\n",
        "import tensorflow as tf\n",
        "import re\n",
        "import string\n",
        "from tqdm import tqdm\n",
        "\n",
        "import bert\n",
        "from bert.tokenization.bert_tokenization import FullTokenizer\n",
        "from bert import BertModelLayer\n",
        "from bert.loader import StockBertConfig, map_stock_config_to_params, load_stock_weights\n",
        "from sklearn.metrics import confusion_matrix, classification_report\n",
        "\n",
        "\n",
        "import os"
      ],
      "execution_count": 0,
      "outputs": []
    },
    {
      "cell_type": "code",
      "metadata": {
        "id": "B4dEOC9WcUlD",
        "colab_type": "code",
        "colab": {}
      },
      "source": [
        "train_df = pd.read_csv(\"train.csv\")\n",
        "test_df = pd.read_csv(\"test.csv\")"
      ],
      "execution_count": 0,
      "outputs": []
    },
    {
      "cell_type": "code",
      "metadata": {
        "id": "KfCzIJu9clCm",
        "colab_type": "code",
        "colab": {}
      },
      "source": [
        "def remove_url(text):\n",
        "    return re.sub(r\"https?:\\/\\/t.co\\/[A-Za-z0-9]+\",\"\",text)\n",
        "def remove_html(text):\n",
        "    return re.sub(r\"<.*?>\",\"\",text)\n",
        "def remove_punctuation(text):\n",
        "    table=str.maketrans('','',string.punctuation)\n",
        "    return text.translate(table)"
      ],
      "execution_count": 0,
      "outputs": []
    },
    {
      "cell_type": "code",
      "metadata": {
        "id": "ztZ0Zrx6c63_",
        "colab_type": "code",
        "colab": {}
      },
      "source": [
        "train_df['text'] = train_df['text'].apply(lambda x:remove_url(x))\n",
        "test_df['text'] = test_df['text'].apply(lambda x:remove_url(x))\n",
        "train_df['text'] = train_df['text'].apply(lambda x:remove_html(x))\n",
        "test_df['text'] = test_df['text'].apply(lambda x:remove_html(x))\n",
        "train_df['text'] = train_df['text'].apply(lambda x:remove_punctuation(x))\n",
        "test_df['text'] = test_df['text'].apply(lambda x:remove_punctuation(x))\n",
        "train_df['text'] = train_df['text'].apply(lambda x:x.lower())\n",
        "test_df['text'] = test_df['text'].apply(lambda x:x.lower())"
      ],
      "execution_count": 0,
      "outputs": []
    },
    {
      "cell_type": "code",
      "metadata": {
        "id": "sIYCmdi_fDtf",
        "colab_type": "code",
        "colab": {}
      },
      "source": [
        ""
      ],
      "execution_count": 0,
      "outputs": []
    },
    {
      "cell_type": "markdown",
      "metadata": {
        "id": "eJCcqNyLkpVF",
        "colab_type": "text"
      },
      "source": [
        "# Downloading Bert Model"
      ]
    },
    {
      "cell_type": "code",
      "metadata": {
        "id": "G3PeJXg7ktpm",
        "colab_type": "code",
        "outputId": "47f8d362-82c7-43ed-e5fa-96488b875b41",
        "colab": {
          "base_uri": "https://localhost:8080/",
          "height": 204
        }
      },
      "source": [
        "!wget https://storage.googleapis.com/bert_models/2018_10_18/uncased_L-12_H-768_A-12.zip"
      ],
      "execution_count": 0,
      "outputs": [
        {
          "output_type": "stream",
          "text": [
            "--2020-05-13 12:46:49--  https://storage.googleapis.com/bert_models/2018_10_18/uncased_L-12_H-768_A-12.zip\n",
            "Resolving storage.googleapis.com (storage.googleapis.com)... 173.194.76.128, 2a00:1450:400c:c0c::80\n",
            "Connecting to storage.googleapis.com (storage.googleapis.com)|173.194.76.128|:443... connected.\n",
            "HTTP request sent, awaiting response... 200 OK\n",
            "Length: 407727028 (389M) [application/zip]\n",
            "Saving to: ‘uncased_L-12_H-768_A-12.zip’\n",
            "\n",
            "uncased_L-12_H-768_ 100%[===================>] 388.84M  66.6MB/s    in 5.8s    \n",
            "\n",
            "2020-05-13 12:46:56 (66.6 MB/s) - ‘uncased_L-12_H-768_A-12.zip’ saved [407727028/407727028]\n",
            "\n"
          ],
          "name": "stdout"
        }
      ]
    },
    {
      "cell_type": "code",
      "metadata": {
        "id": "_uDrX-OSkz3H",
        "colab_type": "code",
        "outputId": "21815d21-d41b-4780-d7e1-b82fbf7d9f2f",
        "colab": {
          "base_uri": "https://localhost:8080/",
          "height": 136
        }
      },
      "source": [
        "!unzip uncased_L-12_H-768_A-12.zip"
      ],
      "execution_count": 0,
      "outputs": [
        {
          "output_type": "stream",
          "text": [
            "Archive:  uncased_L-12_H-768_A-12.zip\n",
            "   creating: uncased_L-12_H-768_A-12/\n",
            "  inflating: uncased_L-12_H-768_A-12/bert_model.ckpt.meta  \n",
            "  inflating: uncased_L-12_H-768_A-12/bert_model.ckpt.data-00000-of-00001  \n",
            "  inflating: uncased_L-12_H-768_A-12/vocab.txt  \n",
            "  inflating: uncased_L-12_H-768_A-12/bert_model.ckpt.index  \n",
            "  inflating: uncased_L-12_H-768_A-12/bert_config.json  \n"
          ],
          "name": "stdout"
        }
      ]
    },
    {
      "cell_type": "code",
      "metadata": {
        "id": "6q6Y3c87lV5D",
        "colab_type": "code",
        "colab": {}
      },
      "source": [
        "os.makedirs('model', exist_ok = True)"
      ],
      "execution_count": 0,
      "outputs": []
    },
    {
      "cell_type": "code",
      "metadata": {
        "id": "ZECTKNcWnIqQ",
        "colab_type": "code",
        "colab": {}
      },
      "source": [
        "!mv uncased_L-12_H-768_A-12/ model"
      ],
      "execution_count": 0,
      "outputs": []
    },
    {
      "cell_type": "code",
      "metadata": {
        "id": "aQcRbj4anfyH",
        "colab_type": "code",
        "colab": {}
      },
      "source": [
        "bert_model_name = \"uncased_L-12_H-768_A-12\"\n",
        "\n",
        "bert_ckpt_dir = os.path.join('model',bert_model_name)\n",
        "bert_ckpt_file = os.path.join(bert_ckpt_dir,'bert_model.ckpt')\n",
        "bert_config_file = os.path.join(bert_ckpt_dir, 'bert_config.json')"
      ],
      "execution_count": 0,
      "outputs": []
    },
    {
      "cell_type": "markdown",
      "metadata": {
        "id": "RORQ2QfXro-X",
        "colab_type": "text"
      },
      "source": [
        "# Pre Processing of the text\n",
        "  * Tokenizing the text\n",
        "  * Padding the seqence to max length"
      ]
    },
    {
      "cell_type": "code",
      "metadata": {
        "id": "rPXc3i7eorFT",
        "colab_type": "code",
        "colab": {}
      },
      "source": [
        "class DisasterClassifier:\n",
        "  DATA_COLUMN = \"text\"\n",
        "  LABEL_COLUMN = \"target\"\n",
        "\n",
        "  def __init__(self, train, test, max_seq_len, tokenizer:FullTokenizer):\n",
        "    self.tokenizer = tokenizer\n",
        "    self.max_seq_len = 0\n",
        "\n",
        "    self.x_train, self.y_train = self._prepare_train(train)\n",
        "    self.max_seq_len = min(self.max_seq_len, max_seq_len)\n",
        "    self.x_train  = self._pad(self.x_train)\n",
        "    self.x_test = self._prepare_test(test)\n",
        "    self.x_test = self._pad(self.x_test)\n",
        "\n",
        "\n",
        "  def _prepare_train(self, data):\n",
        "    x, y = [] , []\n",
        "    for _, row in tqdm(data.iterrows()):\n",
        "      text, label =\\\n",
        "       row[DisasterClassifier.DATA_COLUMN], \\\n",
        "       row[DisasterClassifier.LABEL_COLUMN]\n",
        "      \n",
        "      tokens = self.tokenizer.tokenize(text)\n",
        "      tokens = [\"[CLS]\"] + tokens + [\"[SEP]\"]\n",
        "      token_ids = self.tokenizer.convert_tokens_to_ids(tokens)\n",
        "\n",
        "      self.max_seq_len = max(self.max_seq_len, len(token_ids))\n",
        "      x.append(token_ids)\n",
        "      y.append(label)\n",
        "    return np.array(x), np.array(y)\n",
        "\n",
        "  def _prepare_test(self, data):\n",
        "    x = []\n",
        "    for _, row in tqdm(data.iterrows()):\n",
        "      text = row[DisasterClassifier.DATA_COLUMN]\n",
        "      \n",
        "      tokens = self.tokenizer.tokenize(text)\n",
        "      tokens = [\"[CLS]\"] + tokens + [\"[SEP]\"]\n",
        "      token_ids = self.tokenizer.convert_tokens_to_ids(tokens)\n",
        "      x.append(token_ids)\n",
        "    return np.array(x)\n",
        "  \n",
        "  def _pad(self, ids):\n",
        "    x = []\n",
        "    for input_ids in tqdm(ids):\n",
        "      cut = min(len(input_ids), self.max_seq_len - 2)\n",
        "      input_ids = input_ids[:cut]\n",
        "      input_ids = input_ids + [0] * (self.max_seq_len - len(input_ids))\n",
        "      x.append(np.array(input_ids))      \n",
        "    \n",
        "    return np.array(x)"
      ],
      "execution_count": 0,
      "outputs": []
    },
    {
      "cell_type": "code",
      "metadata": {
        "id": "nORDKJgPotaz",
        "colab_type": "code",
        "colab": {}
      },
      "source": [
        "tokenizer = FullTokenizer(vocab_file= os.path.join(bert_ckpt_dir, \"vocab.txt\"))"
      ],
      "execution_count": 0,
      "outputs": []
    },
    {
      "cell_type": "code",
      "metadata": {
        "id": "EPavPJnH0Cbr",
        "colab_type": "code",
        "outputId": "10c9dc5f-a152-49cf-8113-7933c3f60c52",
        "colab": {
          "base_uri": "https://localhost:8080/",
          "height": 85
        }
      },
      "source": [
        "data = DisasterClassifier(train_df, test_df, max_seq_len= 64, tokenizer=tokenizer)"
      ],
      "execution_count": 0,
      "outputs": [
        {
          "output_type": "stream",
          "text": [
            "7613it [00:03, 2087.24it/s]\n",
            "100%|██████████| 7613/7613 [00:00<00:00, 144478.04it/s]\n",
            "3263it [00:01, 2153.59it/s]\n",
            "100%|██████████| 3263/3263 [00:00<00:00, 116122.91it/s]\n"
          ],
          "name": "stderr"
        }
      ]
    },
    {
      "cell_type": "code",
      "metadata": {
        "id": "4lBAREef2bFN",
        "colab_type": "code",
        "colab": {}
      },
      "source": [
        "def create_model(max_seq_len, bert_ckpt_dir, bert_config_file):\n",
        "  with tf.io.gfile.GFile(bert_config_file, \"r\") as reader:\n",
        "      bc = StockBertConfig.from_json_string(reader.read())\n",
        "      bert_params = map_stock_config_to_params(bc)\n",
        "      bert_params.adapter_size = None\n",
        "      bert = BertModelLayer.from_params(bert_params, name=\"bert\")\n",
        "\n",
        "  input_ids = tf.keras.layers.Input(shape = (max_seq_len, ), dtype= tf.int32, name= 'input_ids')\n",
        "  bert_output = bert(input_ids)\n",
        "\n",
        "  bert_output = bert_output[:,0,:]\n",
        "\n",
        "  drop_out = tf.keras.layers.Dropout(0.5)(bert_output)\n",
        "  d_out = tf.keras.layers.Dense(768, activation='tanh')(drop_out)\n",
        "  logits = tf.keras.layers.Dropout(0.5)(d_out)\n",
        "  out = tf.keras.layers.Dense(2, activation='softmax')(logits)\n",
        "\n",
        "  model = tf.keras.models.Model(inputs = input_ids, outputs = out)\n",
        "  model.summary()\n",
        "\n",
        "  load_stock_weights(bert, bert_ckpt_file)\n",
        "\n",
        "  return model"
      ],
      "execution_count": 0,
      "outputs": []
    },
    {
      "cell_type": "code",
      "metadata": {
        "id": "AsMfgNEd4DZL",
        "colab_type": "code",
        "outputId": "b412dea2-e638-4280-e9b9-06e1f62c15df",
        "colab": {
          "base_uri": "https://localhost:8080/",
          "height": 615
        }
      },
      "source": [
        "model = create_model(data.max_seq_len, bert_ckpt_file, bert_config_file)"
      ],
      "execution_count": 0,
      "outputs": [
        {
          "output_type": "stream",
          "text": [
            "Model: \"model\"\n",
            "_________________________________________________________________\n",
            "Layer (type)                 Output Shape              Param #   \n",
            "=================================================================\n",
            "input_ids (InputLayer)       [(None, 55)]              0         \n",
            "_________________________________________________________________\n",
            "bert (BertModelLayer)        (None, 55, 768)           108890112 \n",
            "_________________________________________________________________\n",
            "tf_op_layer_strided_slice (T [(None, 768)]             0         \n",
            "_________________________________________________________________\n",
            "dropout (Dropout)            (None, 768)               0         \n",
            "_________________________________________________________________\n",
            "dense (Dense)                (None, 768)               590592    \n",
            "_________________________________________________________________\n",
            "dropout_1 (Dropout)          (None, 768)               0         \n",
            "_________________________________________________________________\n",
            "dense_1 (Dense)              (None, 2)                 1538      \n",
            "=================================================================\n",
            "Total params: 109,482,242\n",
            "Trainable params: 109,482,242\n",
            "Non-trainable params: 0\n",
            "_________________________________________________________________\n",
            "Done loading 196 BERT weights from: model/uncased_L-12_H-768_A-12/bert_model.ckpt into <bert.model.BertModelLayer object at 0x7fec67956048> (prefix:bert). Count of weights not found in the checkpoint was: [0]. Count of weights with mismatched shape: [0]\n",
            "Unused weights from checkpoint: \n",
            "\tbert/embeddings/token_type_embeddings\n",
            "\tbert/pooler/dense/bias\n",
            "\tbert/pooler/dense/kernel\n",
            "\tcls/predictions/output_bias\n",
            "\tcls/predictions/transform/LayerNorm/beta\n",
            "\tcls/predictions/transform/LayerNorm/gamma\n",
            "\tcls/predictions/transform/dense/bias\n",
            "\tcls/predictions/transform/dense/kernel\n",
            "\tcls/seq_relationship/output_bias\n",
            "\tcls/seq_relationship/output_weights\n"
          ],
          "name": "stdout"
        }
      ]
    },
    {
      "cell_type": "code",
      "metadata": {
        "id": "njZBonAKBmvJ",
        "colab_type": "code",
        "colab": {}
      },
      "source": [
        "model.compile(\n",
        "  optimizer=tf.keras.optimizers.Adam(1e-5),\n",
        "  loss=tf.keras.losses.SparseCategoricalCrossentropy(from_logits=True),\n",
        "  metrics=[tf.keras.metrics.SparseCategoricalAccuracy(name=\"acc\")]\n",
        ")"
      ],
      "execution_count": 0,
      "outputs": []
    },
    {
      "cell_type": "code",
      "metadata": {
        "id": "6a38GPNdCmEd",
        "colab_type": "code",
        "outputId": "485abc2d-95a7-42de-f30f-1dda3755525f",
        "colab": {
          "base_uri": "https://localhost:8080/",
          "height": 136
        }
      },
      "source": [
        "data.x_train"
      ],
      "execution_count": 0,
      "outputs": [
        {
          "output_type": "execute_result",
          "data": {
            "text/plain": [
              "array([[  101,  2256, 15616, ...,     0,     0,     0],\n",
              "       [  101,  3224,  2543, ...,     0,     0,     0],\n",
              "       [  101,  2035,  3901, ...,     0,     0,     0],\n",
              "       ...,\n",
              "       [  101, 23290,  2683, ...,     0,     0,     0],\n",
              "       [  101,  2610, 11538, ...,     0,     0,     0],\n",
              "       [  101,  1996,  6745, ...,     0,     0,     0]])"
            ]
          },
          "metadata": {
            "tags": []
          },
          "execution_count": 19
        }
      ]
    },
    {
      "cell_type": "code",
      "metadata": {
        "id": "hxCVjVzECsdy",
        "colab_type": "code",
        "outputId": "dcefc94d-1201-40ea-d0c5-c16b1ad695cf",
        "colab": {
          "base_uri": "https://localhost:8080/",
          "height": 34
        }
      },
      "source": [
        "data.y_train.shape"
      ],
      "execution_count": 0,
      "outputs": [
        {
          "output_type": "execute_result",
          "data": {
            "text/plain": [
              "(7613,)"
            ]
          },
          "metadata": {
            "tags": []
          },
          "execution_count": 62
        }
      ]
    },
    {
      "cell_type": "code",
      "metadata": {
        "id": "PiYlsmK6DCrj",
        "colab_type": "code",
        "colab": {}
      },
      "source": [
        ""
      ],
      "execution_count": 0,
      "outputs": []
    },
    {
      "cell_type": "code",
      "metadata": {
        "id": "PpRCdZ9FCI55",
        "colab_type": "code",
        "outputId": "cb6bc882-ae31-40b3-a6ee-cc8a148f43df",
        "colab": {
          "base_uri": "https://localhost:8080/",
          "height": 207
        }
      },
      "source": [
        "history = model.fit(\n",
        "  x=data.x_train, \n",
        "  y=data.y_train,\n",
        "  validation_split=0.1,\n",
        "  batch_size=16,\n",
        "  shuffle=True,\n",
        "  epochs=5,\n",
        "  verbose = 1\n",
        ")"
      ],
      "execution_count": 0,
      "outputs": [
        {
          "output_type": "stream",
          "text": [
            "Epoch 1/5\n",
            "429/429 [==============================] - 267s 623ms/step - loss: 0.5126 - acc: 0.7954 - val_loss: 0.4993 - val_acc: 0.8045\n",
            "Epoch 2/5\n",
            "429/429 [==============================] - 262s 612ms/step - loss: 0.4744 - acc: 0.8345 - val_loss: 0.4873 - val_acc: 0.8163\n",
            "Epoch 3/5\n",
            "429/429 [==============================] - 262s 612ms/step - loss: 0.4543 - acc: 0.8546 - val_loss: 0.4836 - val_acc: 0.8215\n",
            "Epoch 4/5\n",
            "429/429 [==============================] - 262s 611ms/step - loss: 0.4397 - acc: 0.8723 - val_loss: 0.4801 - val_acc: 0.8307\n",
            "Epoch 5/5\n",
            "429/429 [==============================] - 262s 611ms/step - loss: 0.4305 - acc: 0.8809 - val_loss: 0.4647 - val_acc: 0.8438\n"
          ],
          "name": "stdout"
        }
      ]
    },
    {
      "cell_type": "code",
      "metadata": {
        "id": "l8kiuz4aCX_s",
        "colab_type": "code",
        "outputId": "1dc469c8-9912-4dd2-fcdb-4c79f62c9dfb",
        "colab": {
          "base_uri": "https://localhost:8080/",
          "height": 51
        }
      },
      "source": [
        "_, train_acc = model.evaluate(data.x_train, data.y_train)\n",
        "print(\"train acc\", train_acc)"
      ],
      "execution_count": 0,
      "outputs": [
        {
          "output_type": "stream",
          "text": [
            "238/238 [==============================] - 63s 266ms/step - loss: 0.4174 - acc: 0.8954\n",
            "train acc 0.895442008972168\n"
          ],
          "name": "stdout"
        }
      ]
    },
    {
      "cell_type": "code",
      "metadata": {
        "id": "EjGjxZPWLAr1",
        "colab_type": "code",
        "colab": {}
      },
      "source": [
        "y_tain_pred = model.predict(data.x_train).argmax(axis=-1)"
      ],
      "execution_count": 0,
      "outputs": []
    },
    {
      "cell_type": "code",
      "metadata": {
        "id": "1aG8QHOMIkVB",
        "colab_type": "code",
        "colab": {}
      },
      "source": [
        "y_pred = model.predict(data.x_test).argmax(axis=-1)"
      ],
      "execution_count": 0,
      "outputs": []
    },
    {
      "cell_type": "code",
      "metadata": {
        "id": "K_VLKF1qI-pv",
        "colab_type": "code",
        "colab": {}
      },
      "source": [
        "sample_sub=pd.read_csv('sample_submission.csv')\n",
        "y_pre=np.round(y_pred).astype(int).reshape(3263)\n",
        "sub=pd.DataFrame({'id':sample_sub['id'].values.tolist(),'target':y_pre})\n",
        "sub.to_csv('submission.csv',index=False)"
      ],
      "execution_count": 0,
      "outputs": []
    },
    {
      "cell_type": "code",
      "metadata": {
        "id": "thCGlw7RJK8B",
        "colab_type": "code",
        "colab": {}
      },
      "source": [
        "model.save(\"BERT_MODEL_1.h5\")"
      ],
      "execution_count": 0,
      "outputs": []
    },
    {
      "cell_type": "code",
      "metadata": {
        "id": "IP76RA-bKCj_",
        "colab_type": "code",
        "outputId": "7e303901-5a72-4b9e-e3f9-0068a3bc8349",
        "colab": {
          "base_uri": "https://localhost:8080/",
          "height": 170
        }
      },
      "source": [
        "print(classification_report(data.y_train, y_tain_pred))"
      ],
      "execution_count": 0,
      "outputs": [
        {
          "output_type": "stream",
          "text": [
            "              precision    recall  f1-score   support\n",
            "\n",
            "           0       0.87      0.96      0.91      4342\n",
            "           1       0.94      0.81      0.87      3271\n",
            "\n",
            "    accuracy                           0.90      7613\n",
            "   macro avg       0.90      0.88      0.89      7613\n",
            "weighted avg       0.90      0.90      0.89      7613\n",
            "\n"
          ],
          "name": "stdout"
        }
      ]
    },
    {
      "cell_type": "code",
      "metadata": {
        "id": "uGjEv_shLYky",
        "colab_type": "code",
        "outputId": "adde3825-d0c7-4ee6-a3d7-2bdd836574cc",
        "colab": {
          "base_uri": "https://localhost:8080/",
          "height": 122
        }
      },
      "source": [
        "from google.colab import drive\n",
        "drive.mount('/content/gdrive')"
      ],
      "execution_count": 0,
      "outputs": [
        {
          "output_type": "stream",
          "text": [
            "Go to this URL in a browser: https://accounts.google.com/o/oauth2/auth?client_id=947318989803-6bn6qk8qdgf4n4g3pfee6491hc0brc4i.apps.googleusercontent.com&redirect_uri=urn%3aietf%3awg%3aoauth%3a2.0%3aoob&response_type=code&scope=email%20https%3a%2f%2fwww.googleapis.com%2fauth%2fdocs.test%20https%3a%2f%2fwww.googleapis.com%2fauth%2fdrive%20https%3a%2f%2fwww.googleapis.com%2fauth%2fdrive.photos.readonly%20https%3a%2f%2fwww.googleapis.com%2fauth%2fpeopleapi.readonly\n",
            "\n",
            "Enter your authorization code:\n",
            "··········\n",
            "Mounted at /content/gdrive\n"
          ],
          "name": "stdout"
        }
      ]
    },
    {
      "cell_type": "code",
      "metadata": {
        "id": "Q8EYwi1nRSAN",
        "colab_type": "code",
        "outputId": "965f73ab-ae23-48c3-9695-b4f332f6c0cf",
        "colab": {
          "base_uri": "https://localhost:8080/",
          "height": 1000
        }
      },
      "source": [
        "!ls /content/gdrive/My\\ Drive"
      ],
      "execution_count": 0,
      "outputs": [
        {
          "output_type": "stream",
          "text": [
            " 10-ps.JPG\n",
            " 10_schematics_1.JPG\n",
            " 10_simulation.JPG\n",
            " 11089.pdf\n",
            "'12 Oct '\n",
            "'18UCC159 (1).pdf'\n",
            "'18UCC159 (2).pdf'\n",
            "'18UCC159 (3).pdf'\n",
            " 18ucc159_company\n",
            " 18UCC159_Exp1.pdf\n",
            " 18UCC159_Exp2.pdf\n",
            " 18UCC159.pdf\n",
            " 18ucc159_program\n",
            "'18uec049@lnmiit.ac.in 2018-10-19 14:28'\n",
            "'1st Semester'\n",
            "'2nd Year.pdf'\n",
            "'AI ML WORKSHOp'\n",
            " ass1.sas\n",
            " ass2.sas\n",
            " assembler.py\n",
            " assembly\n",
            " Assignment_5\n",
            " Backup\n",
            " Classroom\n",
            "'Colab Notebooks'\n",
            "'Course List For Summer 2019.gsheet'\n",
            " dandiyanight\n",
            " Date_Conversion\n",
            "'DCS LAB'\n",
            " Deepvel\n",
            " DMS.pdf\n",
            " DMS_SOLUTION.pdf\n",
            "'Document (1).gdoc'\n",
            "'Document (2).gdoc'\n",
            " Document.gdoc\n",
            "'ENVIRONMENT ECOLOGY & BIOLOGY.gslides'\n",
            "'FEDERATED LEARNING.gdoc'\n",
            "'Getting started.pdf'\n",
            " image\n",
            " JDBC\n",
            " lab8.docx\n",
            " lab9_18ucc159\n",
            "'lab9 sol'\n",
            " lab.c\n",
            "'Microelectronic_Circuits_Sedra_Smith_7th (1).pdf'\n",
            " Microelectronic_Circuits_Sedra_Smith_7th.pdf\n",
            " MLCOURSE.AI\n",
            " mysql-connector-java-8.0.18.jar\n",
            " primeno.txt\n",
            " schedular.c\n",
            " screamshorts\n",
            "'SEM 1'\n",
            " SSC_SOFTWERE\n",
            "'Study Material'\n",
            "'Study material (exclusively for ECE students)'\n",
            " thread\n",
            " Untitled.gdoc\n",
            " VEE.gdoc\n",
            " yourFile.logic\n"
          ],
          "name": "stdout"
        }
      ]
    },
    {
      "cell_type": "code",
      "metadata": {
        "id": "O0LYZzZHRkWv",
        "colab_type": "code",
        "colab": {}
      },
      "source": [
        "model_save_name = 'BERT_Diaster_classificatoin.h5'\n",
        "path = F\"/content/gdrive/My Drive/{model_save_name}\" \n",
        "model.save(path)"
      ],
      "execution_count": 0,
      "outputs": []
    },
    {
      "cell_type": "code",
      "metadata": {
        "id": "Lh6LjUP_SFJV",
        "colab_type": "code",
        "colab": {}
      },
      "source": [
        "def create_model_2(max_seq_len, bert_ckpt_dir, bert_config_file):\n",
        "  with tf.io.gfile.GFile(bert_config_file, \"r\") as reader:\n",
        "      bc = StockBertConfig.from_json_string(reader.read())\n",
        "      bert_params = map_stock_config_to_params(bc)\n",
        "      bert_params.adapter_size = None\n",
        "      bert = BertModelLayer.from_params(bert_params, name=\"bert\")\n",
        "\n",
        "  input_ids = tf.keras.layers.Input(shape = (max_seq_len, ), dtype= tf.int32, name= 'input_ids')\n",
        "  bert_output = bert(input_ids)\n",
        "  d_out = bert_output[:,0,:]\n",
        "  d_out = tf.keras.layers.Dense(768, activation='relu',\n",
        "                                activity_regularizer= tf.keras.regularizers.l2())(d_out)\n",
        "  logits = tf.keras.layers.Dropout(0.3)(d_out)\n",
        "  d_out = tf.keras.layers.Dense(256, activation='relu', \n",
        "                                activity_regularizer= tf.keras.regularizers.l2())(logits)\n",
        "  logits = tf.keras.layers.Dropout(0.3)(d_out)\n",
        "  out = tf.keras.layers.Dense(2, activation='softmax')(logits)\n",
        "\n",
        "  model = tf.keras.models.Model(inputs = input_ids, outputs = out)\n",
        "  model.summary()\n",
        "\n",
        "  load_stock_weights(bert, bert_ckpt_file)\n",
        "\n",
        "  return model"
      ],
      "execution_count": 0,
      "outputs": []
    },
    {
      "cell_type": "code",
      "metadata": {
        "id": "K1mGFnjDTbaR",
        "colab_type": "code",
        "outputId": "05a6d952-6aa3-4258-da0a-f882a9ab33a2",
        "colab": {
          "base_uri": "https://localhost:8080/",
          "height": 649
        }
      },
      "source": [
        "model_2 = create_model_2(data.max_seq_len, bert_ckpt_file, bert_config_file)"
      ],
      "execution_count": 0,
      "outputs": [
        {
          "output_type": "stream",
          "text": [
            "Model: \"model_3\"\n",
            "_________________________________________________________________\n",
            "Layer (type)                 Output Shape              Param #   \n",
            "=================================================================\n",
            "input_ids (InputLayer)       [(None, 55)]              0         \n",
            "_________________________________________________________________\n",
            "bert (BertModelLayer)        (None, 55, 768)           108890112 \n",
            "_________________________________________________________________\n",
            "tf_op_layer_strided_slice_7  [(None, 768)]             0         \n",
            "_________________________________________________________________\n",
            "dense_12 (Dense)             (None, 768)               590592    \n",
            "_________________________________________________________________\n",
            "dropout_10 (Dropout)         (None, 768)               0         \n",
            "_________________________________________________________________\n",
            "dense_13 (Dense)             (None, 256)               196864    \n",
            "_________________________________________________________________\n",
            "dropout_11 (Dropout)         (None, 256)               0         \n",
            "_________________________________________________________________\n",
            "dense_14 (Dense)             (None, 2)                 514       \n",
            "=================================================================\n",
            "Total params: 109,678,082\n",
            "Trainable params: 109,678,082\n",
            "Non-trainable params: 0\n",
            "_________________________________________________________________\n",
            "Done loading 196 BERT weights from: model/uncased_L-12_H-768_A-12/bert_model.ckpt into <bert.model.BertModelLayer object at 0x7f67cbf2a128> (prefix:bert_12). Count of weights not found in the checkpoint was: [0]. Count of weights with mismatched shape: [0]\n",
            "Unused weights from checkpoint: \n",
            "\tbert/embeddings/token_type_embeddings\n",
            "\tbert/pooler/dense/bias\n",
            "\tbert/pooler/dense/kernel\n",
            "\tcls/predictions/output_bias\n",
            "\tcls/predictions/transform/LayerNorm/beta\n",
            "\tcls/predictions/transform/LayerNorm/gamma\n",
            "\tcls/predictions/transform/dense/bias\n",
            "\tcls/predictions/transform/dense/kernel\n",
            "\tcls/seq_relationship/output_bias\n",
            "\tcls/seq_relationship/output_weights\n"
          ],
          "name": "stdout"
        }
      ]
    },
    {
      "cell_type": "code",
      "metadata": {
        "id": "8H5RYaddTgDH",
        "colab_type": "code",
        "colab": {}
      },
      "source": [
        "model_2.compile(\n",
        "  optimizer=tf.keras.optimizers.Adam(1e-5),\n",
        "  loss=tf.keras.losses.SparseCategoricalCrossentropy(from_logits=True),\n",
        "  metrics=[tf.keras.metrics.SparseCategoricalAccuracy(name=\"acc\")]\n",
        ")"
      ],
      "execution_count": 0,
      "outputs": []
    },
    {
      "cell_type": "code",
      "metadata": {
        "id": "yXPprc-DZu7g",
        "colab_type": "code",
        "outputId": "acc3e434-07e0-4a3a-ecbd-93edde68bc7c",
        "colab": {
          "base_uri": "https://localhost:8080/",
          "height": 207
        }
      },
      "source": [
        "history = model_2.fit(\n",
        "  x=data.x_train, \n",
        "  y=data.y_train,\n",
        "  validation_split=0.1,\n",
        "  batch_size=32,\n",
        "  shuffle=True,\n",
        "  epochs= 5,\n",
        "  verbose = 1\n",
        ")"
      ],
      "execution_count": 0,
      "outputs": [
        {
          "output_type": "stream",
          "text": [
            "Epoch 1/5\n",
            "215/215 [==============================] - 211s 983ms/step - loss: 0.7202 - acc: 0.6440 - val_loss: 0.6024 - val_acc: 0.8176\n",
            "Epoch 2/5\n",
            "215/215 [==============================] - 206s 959ms/step - loss: 0.5935 - acc: 0.8130 - val_loss: 0.5641 - val_acc: 0.8320\n",
            "Epoch 3/5\n",
            "215/215 [==============================] - 206s 960ms/step - loss: 0.5584 - acc: 0.8440 - val_loss: 0.5564 - val_acc: 0.8228\n",
            "Epoch 4/5\n",
            "215/215 [==============================] - 207s 961ms/step - loss: 0.5332 - acc: 0.8667 - val_loss: 0.5532 - val_acc: 0.8228\n",
            "Epoch 5/5\n",
            "215/215 [==============================] - 207s 961ms/step - loss: 0.5114 - acc: 0.8894 - val_loss: 0.5381 - val_acc: 0.8333\n"
          ],
          "name": "stdout"
        }
      ]
    },
    {
      "cell_type": "code",
      "metadata": {
        "id": "GyEk1vkzZ9qL",
        "colab_type": "code",
        "outputId": "ab5c381b-2e1c-45d5-9f87-36ac3ec583de",
        "colab": {
          "base_uri": "https://localhost:8080/",
          "height": 51
        }
      },
      "source": [
        "%%time\n",
        "y_pred = model_2.predict(data.x_test).argmax(axis=-1)"
      ],
      "execution_count": 0,
      "outputs": [
        {
          "output_type": "stream",
          "text": [
            "CPU times: user 11.6 s, sys: 1.76 s, total: 13.4 s\n",
            "Wall time: 30.6 s\n"
          ],
          "name": "stdout"
        }
      ]
    },
    {
      "cell_type": "code",
      "metadata": {
        "id": "-VG_nGM4ndRU",
        "colab_type": "code",
        "colab": {}
      },
      "source": [
        "sample_sub=pd.read_csv('sample_submission.csv')\n",
        "y_pre=np.round(y_pred).astype(int).reshape(3263)\n",
        "sub=pd.DataFrame({'id':sample_sub['id'].values.tolist(),'target':y_pre})\n",
        "sub.to_csv('submission2.csv',index=False)"
      ],
      "execution_count": 0,
      "outputs": []
    },
    {
      "cell_type": "code",
      "metadata": {
        "id": "n58dsqZRnsId",
        "colab_type": "code",
        "outputId": "3a3c1042-7aaf-4aa7-8973-12b4b2bc343d",
        "colab": {
          "base_uri": "https://localhost:8080/",
          "height": 359
        }
      },
      "source": [
        "sub.head(10)"
      ],
      "execution_count": 0,
      "outputs": [
        {
          "output_type": "execute_result",
          "data": {
            "text/html": [
              "<div>\n",
              "<style scoped>\n",
              "    .dataframe tbody tr th:only-of-type {\n",
              "        vertical-align: middle;\n",
              "    }\n",
              "\n",
              "    .dataframe tbody tr th {\n",
              "        vertical-align: top;\n",
              "    }\n",
              "\n",
              "    .dataframe thead th {\n",
              "        text-align: right;\n",
              "    }\n",
              "</style>\n",
              "<table border=\"1\" class=\"dataframe\">\n",
              "  <thead>\n",
              "    <tr style=\"text-align: right;\">\n",
              "      <th></th>\n",
              "      <th>id</th>\n",
              "      <th>target</th>\n",
              "    </tr>\n",
              "  </thead>\n",
              "  <tbody>\n",
              "    <tr>\n",
              "      <th>0</th>\n",
              "      <td>0</td>\n",
              "      <td>1</td>\n",
              "    </tr>\n",
              "    <tr>\n",
              "      <th>1</th>\n",
              "      <td>2</td>\n",
              "      <td>1</td>\n",
              "    </tr>\n",
              "    <tr>\n",
              "      <th>2</th>\n",
              "      <td>3</td>\n",
              "      <td>1</td>\n",
              "    </tr>\n",
              "    <tr>\n",
              "      <th>3</th>\n",
              "      <td>9</td>\n",
              "      <td>1</td>\n",
              "    </tr>\n",
              "    <tr>\n",
              "      <th>4</th>\n",
              "      <td>11</td>\n",
              "      <td>1</td>\n",
              "    </tr>\n",
              "    <tr>\n",
              "      <th>5</th>\n",
              "      <td>12</td>\n",
              "      <td>1</td>\n",
              "    </tr>\n",
              "    <tr>\n",
              "      <th>6</th>\n",
              "      <td>21</td>\n",
              "      <td>0</td>\n",
              "    </tr>\n",
              "    <tr>\n",
              "      <th>7</th>\n",
              "      <td>22</td>\n",
              "      <td>0</td>\n",
              "    </tr>\n",
              "    <tr>\n",
              "      <th>8</th>\n",
              "      <td>27</td>\n",
              "      <td>0</td>\n",
              "    </tr>\n",
              "    <tr>\n",
              "      <th>9</th>\n",
              "      <td>29</td>\n",
              "      <td>0</td>\n",
              "    </tr>\n",
              "  </tbody>\n",
              "</table>\n",
              "</div>"
            ],
            "text/plain": [
              "   id  target\n",
              "0   0       1\n",
              "1   2       1\n",
              "2   3       1\n",
              "3   9       1\n",
              "4  11       1\n",
              "5  12       1\n",
              "6  21       0\n",
              "7  22       0\n",
              "8  27       0\n",
              "9  29       0"
            ]
          },
          "metadata": {
            "tags": []
          },
          "execution_count": 125
        }
      ]
    },
    {
      "cell_type": "markdown",
      "metadata": {
        "id": "4TmFOB_25hdl",
        "colab_type": "text"
      },
      "source": [
        "* We can do some filtering on the basis of keyword as we see in the EDA notebook \n",
        "* First off all we retrive the probability "
      ]
    },
    {
      "cell_type": "code",
      "metadata": {
        "id": "s7CDLj2Rn1GP",
        "colab_type": "code",
        "colab": {}
      },
      "source": [
        "y_pred = model.predict(data.x_test).argmax(axis=-1)"
      ],
      "execution_count": 0,
      "outputs": []
    },
    {
      "cell_type": "code",
      "metadata": {
        "id": "-lSNumZu_uMG",
        "colab_type": "code",
        "colab": {}
      },
      "source": [
        "sample_sub=pd.read_csv('sample_submission.csv')\n",
        "y_pre=np.round(y_pred).astype(int).reshape(3263)\n",
        "sub=pd.DataFrame({'id':sample_sub['id'].values.tolist(),'target':y_pre})"
      ],
      "execution_count": 0,
      "outputs": []
    },
    {
      "cell_type": "code",
      "metadata": {
        "id": "DYZecXRX7Mx7",
        "colab_type": "code",
        "colab": {}
      },
      "source": [
        "train_df.fillna('None', inplace=True)"
      ],
      "execution_count": 0,
      "outputs": []
    },
    {
      "cell_type": "code",
      "metadata": {
        "id": "4hhPnnVR9C3u",
        "colab_type": "code",
        "outputId": "36438cf4-4cdf-41c9-ab70-665a3065f86f",
        "colab": {
          "base_uri": "https://localhost:8080/",
          "height": 204
        }
      },
      "source": [
        "train_df.head()"
      ],
      "execution_count": 0,
      "outputs": [
        {
          "output_type": "execute_result",
          "data": {
            "text/html": [
              "<div>\n",
              "<style scoped>\n",
              "    .dataframe tbody tr th:only-of-type {\n",
              "        vertical-align: middle;\n",
              "    }\n",
              "\n",
              "    .dataframe tbody tr th {\n",
              "        vertical-align: top;\n",
              "    }\n",
              "\n",
              "    .dataframe thead th {\n",
              "        text-align: right;\n",
              "    }\n",
              "</style>\n",
              "<table border=\"1\" class=\"dataframe\">\n",
              "  <thead>\n",
              "    <tr style=\"text-align: right;\">\n",
              "      <th></th>\n",
              "      <th>id</th>\n",
              "      <th>keyword</th>\n",
              "      <th>location</th>\n",
              "      <th>text</th>\n",
              "      <th>target</th>\n",
              "    </tr>\n",
              "  </thead>\n",
              "  <tbody>\n",
              "    <tr>\n",
              "      <th>0</th>\n",
              "      <td>1</td>\n",
              "      <td>None</td>\n",
              "      <td>None</td>\n",
              "      <td>our deeds are the reason of this earthquake ma...</td>\n",
              "      <td>1</td>\n",
              "    </tr>\n",
              "    <tr>\n",
              "      <th>1</th>\n",
              "      <td>4</td>\n",
              "      <td>None</td>\n",
              "      <td>None</td>\n",
              "      <td>forest fire near la ronge sask canada</td>\n",
              "      <td>1</td>\n",
              "    </tr>\n",
              "    <tr>\n",
              "      <th>2</th>\n",
              "      <td>5</td>\n",
              "      <td>None</td>\n",
              "      <td>None</td>\n",
              "      <td>all residents asked to shelter in place are be...</td>\n",
              "      <td>1</td>\n",
              "    </tr>\n",
              "    <tr>\n",
              "      <th>3</th>\n",
              "      <td>6</td>\n",
              "      <td>None</td>\n",
              "      <td>None</td>\n",
              "      <td>13000 people receive wildfires evacuation orde...</td>\n",
              "      <td>1</td>\n",
              "    </tr>\n",
              "    <tr>\n",
              "      <th>4</th>\n",
              "      <td>7</td>\n",
              "      <td>None</td>\n",
              "      <td>None</td>\n",
              "      <td>just got sent this photo from ruby alaska as s...</td>\n",
              "      <td>1</td>\n",
              "    </tr>\n",
              "  </tbody>\n",
              "</table>\n",
              "</div>"
            ],
            "text/plain": [
              "   id keyword  ...                                               text target\n",
              "0   1    None  ...  our deeds are the reason of this earthquake ma...      1\n",
              "1   4    None  ...              forest fire near la ronge sask canada      1\n",
              "2   5    None  ...  all residents asked to shelter in place are be...      1\n",
              "3   6    None  ...  13000 people receive wildfires evacuation orde...      1\n",
              "4   7    None  ...  just got sent this photo from ruby alaska as s...      1\n",
              "\n",
              "[5 rows x 5 columns]"
            ]
          },
          "metadata": {
            "tags": []
          },
          "execution_count": 153
        }
      ]
    },
    {
      "cell_type": "code",
      "metadata": {
        "id": "3i2RFeLN8DAw",
        "colab_type": "code",
        "outputId": "8b2d04f2-b9a8-4e56-8243-413bf899ddc1",
        "colab": {
          "base_uri": "https://localhost:8080/",
          "height": 390
        }
      },
      "source": [
        "ag = train_df.groupby('keyword').agg({'text':np.size, 'target':np.mean}).rename(columns={'text':'Count', 'target':'Disaster Probability'})\n",
        "ag.sort_values('Disaster Probability', ascending=False).head(10)"
      ],
      "execution_count": 0,
      "outputs": [
        {
          "output_type": "execute_result",
          "data": {
            "text/html": [
              "<div>\n",
              "<style scoped>\n",
              "    .dataframe tbody tr th:only-of-type {\n",
              "        vertical-align: middle;\n",
              "    }\n",
              "\n",
              "    .dataframe tbody tr th {\n",
              "        vertical-align: top;\n",
              "    }\n",
              "\n",
              "    .dataframe thead th {\n",
              "        text-align: right;\n",
              "    }\n",
              "</style>\n",
              "<table border=\"1\" class=\"dataframe\">\n",
              "  <thead>\n",
              "    <tr style=\"text-align: right;\">\n",
              "      <th></th>\n",
              "      <th>Count</th>\n",
              "      <th>Disaster Probability</th>\n",
              "    </tr>\n",
              "    <tr>\n",
              "      <th>keyword</th>\n",
              "      <th></th>\n",
              "      <th></th>\n",
              "    </tr>\n",
              "  </thead>\n",
              "  <tbody>\n",
              "    <tr>\n",
              "      <th>wreckage</th>\n",
              "      <td>39</td>\n",
              "      <td>1.000000</td>\n",
              "    </tr>\n",
              "    <tr>\n",
              "      <th>debris</th>\n",
              "      <td>37</td>\n",
              "      <td>1.000000</td>\n",
              "    </tr>\n",
              "    <tr>\n",
              "      <th>derailment</th>\n",
              "      <td>39</td>\n",
              "      <td>1.000000</td>\n",
              "    </tr>\n",
              "    <tr>\n",
              "      <th>outbreak</th>\n",
              "      <td>40</td>\n",
              "      <td>0.975000</td>\n",
              "    </tr>\n",
              "    <tr>\n",
              "      <th>oil%20spill</th>\n",
              "      <td>38</td>\n",
              "      <td>0.973684</td>\n",
              "    </tr>\n",
              "    <tr>\n",
              "      <th>typhoon</th>\n",
              "      <td>38</td>\n",
              "      <td>0.973684</td>\n",
              "    </tr>\n",
              "    <tr>\n",
              "      <th>suicide%20bombing</th>\n",
              "      <td>33</td>\n",
              "      <td>0.969697</td>\n",
              "    </tr>\n",
              "    <tr>\n",
              "      <th>suicide%20bomber</th>\n",
              "      <td>31</td>\n",
              "      <td>0.967742</td>\n",
              "    </tr>\n",
              "    <tr>\n",
              "      <th>bombing</th>\n",
              "      <td>29</td>\n",
              "      <td>0.931034</td>\n",
              "    </tr>\n",
              "    <tr>\n",
              "      <th>suicide%20bomb</th>\n",
              "      <td>35</td>\n",
              "      <td>0.914286</td>\n",
              "    </tr>\n",
              "  </tbody>\n",
              "</table>\n",
              "</div>"
            ],
            "text/plain": [
              "                   Count  Disaster Probability\n",
              "keyword                                       \n",
              "wreckage              39              1.000000\n",
              "debris                37              1.000000\n",
              "derailment            39              1.000000\n",
              "outbreak              40              0.975000\n",
              "oil%20spill           38              0.973684\n",
              "typhoon               38              0.973684\n",
              "suicide%20bombing     33              0.969697\n",
              "suicide%20bomber      31              0.967742\n",
              "bombing               29              0.931034\n",
              "suicide%20bomb        35              0.914286"
            ]
          },
          "metadata": {
            "tags": []
          },
          "execution_count": 154
        }
      ]
    },
    {
      "cell_type": "code",
      "metadata": {
        "id": "JxkxrF328bN6",
        "colab_type": "code",
        "outputId": "d95ca5f9-566f-45ea-e6d1-ca61b75992ba",
        "colab": {
          "base_uri": "https://localhost:8080/",
          "height": 221
        }
      },
      "source": [
        "keyword_list = list(ag[(ag['Count']>2) & (ag['Disaster Probability']>=0.9)].index)\n",
        "keyword_list\n"
      ],
      "execution_count": 0,
      "outputs": [
        {
          "output_type": "execute_result",
          "data": {
            "text/plain": [
              "['bombing',\n",
              " 'debris',\n",
              " 'derailment',\n",
              " 'nuclear%20disaster',\n",
              " 'oil%20spill',\n",
              " 'outbreak',\n",
              " 'rescuers',\n",
              " 'suicide%20bomb',\n",
              " 'suicide%20bomber',\n",
              " 'suicide%20bombing',\n",
              " 'typhoon',\n",
              " 'wreckage']"
            ]
          },
          "metadata": {
            "tags": []
          },
          "execution_count": 155
        }
      ]
    },
    {
      "cell_type": "code",
      "metadata": {
        "id": "8lIuB4-Q9Uud",
        "colab_type": "code",
        "outputId": "f9e7b6d3-2550-4f89-fefb-962ff2a733d0",
        "colab": {
          "base_uri": "https://localhost:8080/",
          "height": 204
        }
      },
      "source": [
        "ids = test_df['id'][test_df.keyword.isin(keyword_list)].values\n",
        "sub['target'][sub['id'].isin(ids)] = 1\n",
        "sub.head()"
      ],
      "execution_count": 0,
      "outputs": [
        {
          "output_type": "execute_result",
          "data": {
            "text/html": [
              "<div>\n",
              "<style scoped>\n",
              "    .dataframe tbody tr th:only-of-type {\n",
              "        vertical-align: middle;\n",
              "    }\n",
              "\n",
              "    .dataframe tbody tr th {\n",
              "        vertical-align: top;\n",
              "    }\n",
              "\n",
              "    .dataframe thead th {\n",
              "        text-align: right;\n",
              "    }\n",
              "</style>\n",
              "<table border=\"1\" class=\"dataframe\">\n",
              "  <thead>\n",
              "    <tr style=\"text-align: right;\">\n",
              "      <th></th>\n",
              "      <th>id</th>\n",
              "      <th>target</th>\n",
              "    </tr>\n",
              "  </thead>\n",
              "  <tbody>\n",
              "    <tr>\n",
              "      <th>0</th>\n",
              "      <td>0</td>\n",
              "      <td>1</td>\n",
              "    </tr>\n",
              "    <tr>\n",
              "      <th>1</th>\n",
              "      <td>2</td>\n",
              "      <td>1</td>\n",
              "    </tr>\n",
              "    <tr>\n",
              "      <th>2</th>\n",
              "      <td>3</td>\n",
              "      <td>1</td>\n",
              "    </tr>\n",
              "    <tr>\n",
              "      <th>3</th>\n",
              "      <td>9</td>\n",
              "      <td>1</td>\n",
              "    </tr>\n",
              "    <tr>\n",
              "      <th>4</th>\n",
              "      <td>11</td>\n",
              "      <td>1</td>\n",
              "    </tr>\n",
              "  </tbody>\n",
              "</table>\n",
              "</div>"
            ],
            "text/plain": [
              "   id  target\n",
              "0   0       1\n",
              "1   2       1\n",
              "2   3       1\n",
              "3   9       1\n",
              "4  11       1"
            ]
          },
          "metadata": {
            "tags": []
          },
          "execution_count": 156
        }
      ]
    },
    {
      "cell_type": "code",
      "metadata": {
        "id": "L62wFPGT-Cxm",
        "colab_type": "code",
        "colab": {}
      },
      "source": [
        "sub_id = np.array(sub.target.values)"
      ],
      "execution_count": 0,
      "outputs": []
    },
    {
      "cell_type": "code",
      "metadata": {
        "id": "HcHFJCYY-Lf7",
        "colab_type": "code",
        "outputId": "32dd627e-189e-4c79-9370-474180e175eb",
        "colab": {
          "base_uri": "https://localhost:8080/",
          "height": 34
        }
      },
      "source": [
        "print(type(sub_id))"
      ],
      "execution_count": 0,
      "outputs": [
        {
          "output_type": "stream",
          "text": [
            "<class 'numpy.ndarray'>\n"
          ],
          "name": "stdout"
        }
      ]
    },
    {
      "cell_type": "code",
      "metadata": {
        "id": "iSrKM9AT-cYW",
        "colab_type": "code",
        "outputId": "f0a01fc1-36f2-4d42-9594-bf35a3b6a293",
        "colab": {
          "base_uri": "https://localhost:8080/",
          "height": 34
        }
      },
      "source": [
        "print(type(y_pred))"
      ],
      "execution_count": 0,
      "outputs": [
        {
          "output_type": "stream",
          "text": [
            "<class 'numpy.ndarray'>\n"
          ],
          "name": "stdout"
        }
      ]
    },
    {
      "cell_type": "code",
      "metadata": {
        "id": "MjLGNFaK9pbn",
        "colab_type": "code",
        "outputId": "d1eae17b-c7c2-46dc-9df2-ce2c6cb6f43b",
        "colab": {
          "base_uri": "https://localhost:8080/",
          "height": 34
        }
      },
      "source": [
        "y_pred[:5]"
      ],
      "execution_count": 0,
      "outputs": [
        {
          "output_type": "execute_result",
          "data": {
            "text/plain": [
              "array([1, 1, 1, 1, 1])"
            ]
          },
          "metadata": {
            "tags": []
          },
          "execution_count": 160
        }
      ]
    },
    {
      "cell_type": "code",
      "metadata": {
        "id": "MIqv_gin9410",
        "colab_type": "code",
        "outputId": "8a11eb28-4299-4a8c-f5e3-8728b99e2c4d",
        "colab": {
          "base_uri": "https://localhost:8080/",
          "height": 34
        }
      },
      "source": [
        "count = 0\n",
        "for i in range(len(sub_id)):\n",
        "  if sub_id[i] != y_pred[i]:\n",
        "    count = count + 1\n",
        "print(count)"
      ],
      "execution_count": 0,
      "outputs": [
        {
          "output_type": "stream",
          "text": [
            "8\n"
          ],
          "name": "stdout"
        }
      ]
    },
    {
      "cell_type": "code",
      "metadata": {
        "id": "GhhbqKdE-aKz",
        "colab_type": "code",
        "outputId": "382aeea2-56b3-4b78-b69b-a2a39f42a15f",
        "colab": {
          "base_uri": "https://localhost:8080/",
          "height": 51
        }
      },
      "source": [
        "print(sub_id[0:25])\n",
        "print(y_pred[0:25])"
      ],
      "execution_count": 0,
      "outputs": [
        {
          "output_type": "stream",
          "text": [
            "[1 1 1 1 1 0 0 0 0 0 0 0 0 0 0 1 0 0 0 0 0 0 0 1 0]\n",
            "[1 1 1 1 1 0 0 0 0 0 0 0 0 0 0 1 0 0 0 0 0 0 0 1 0]\n"
          ],
          "name": "stdout"
        }
      ]
    },
    {
      "cell_type": "code",
      "metadata": {
        "id": "koFl3SQi-53D",
        "colab_type": "code",
        "colab": {}
      },
      "source": [
        ""
      ],
      "execution_count": 0,
      "outputs": []
    }
  ]
}